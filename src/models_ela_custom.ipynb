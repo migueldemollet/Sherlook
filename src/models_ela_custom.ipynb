{
 "cells": [
  {
   "attachments": {},
   "cell_type": "markdown",
   "metadata": {},
   "source": [
    "# Detection of modified images or videos using Neural Networks"
   ]
  },
  {
   "attachments": {},
   "cell_type": "markdown",
   "metadata": {},
   "source": [
    "## Importing the libraries"
   ]
  },
  {
   "cell_type": "code",
   "execution_count": 1,
   "metadata": {},
   "outputs": [],
   "source": [
    "import cv2\n",
    "import numpy as np\n",
    "import matplotlib.pyplot as plt\n",
    "from PIL import Image, ImageChops, ImageFilter\n",
    "import pandas as pd\n",
    "import os\n",
    "import io\n",
    "import shutil\n",
    "from kaggle.api.kaggle_api_extended import KaggleApi\n",
    "\n",
    "import tensorflow as tf\n",
    "from tensorflow import keras\n",
    "from keras import backend as K\n",
    "from keras.utils import to_categorical\n",
    "from keras.models import Sequential, Model, load_model\n",
    "from keras.optimizers import Adam, SGD\n",
    "from keras.layers import Conv2D, MaxPooling2D, Flatten, Dense, Dropout, BatchNormalization, Activation, Input, Lambda, Resizing, Rescaling, GlobalAveragePooling2D, RandomFlip, RandomRotation, RandomZoom, RandomCrop, RandomTranslation, RandomContrast\n",
    "from keras.applications import ResNet50, MobileNet, MobileNetV2, VGG16, Xception\n",
    "from keras.regularizers import l2\n",
    "from keras.callbacks import EarlyStopping, ModelCheckpoint, TensorBoard, ReduceLROnPlateau\n",
    "from keras.preprocessing.image import ImageDataGenerator\n",
    "from sklearn.model_selection import train_test_split\n",
    "from sklearn.metrics import roc_curve, auc, confusion_matrix\n",
    "import itertools\n",
    "\n",
    "#K.clear_session()\n",
    "#tf.compat.v1.reset_default_graph()\n",
    "#tf.compat.v1.enable_eager_execution()"
   ]
  },
  {
   "attachments": {},
   "cell_type": "markdown",
   "metadata": {},
   "source": [
    "## Downloading the dataset"
   ]
  },
  {
   "cell_type": "code",
   "execution_count": 2,
   "metadata": {},
   "outputs": [],
   "source": [
    "URL = \"sophatvathana/casia-dataset\"\n",
    "PATH_DATASET = './../dataset/'\n",
    "\n",
    "def download_dataset():\n",
    "    api = KaggleApi()\n",
    "    api.authenticate()\n",
    "    print(\"Downloading files...\")\n",
    "    api.dataset_download_files('sophatvathana/casia-dataset', path=PATH_DATASET, unzip=True)\n",
    "\n",
    "    print(\"\\rDownload complete.\")\n",
    "\n",
    "\n",
    "def clean_directory():\n",
    "    print(\"Moving folder...\")\n",
    "    os.rename(PATH_DATASET+\"CASIA2/Au\", PATH_DATASET+\"Au\")\n",
    "    os.rename(PATH_DATASET+\"CASIA2/Tp\", PATH_DATASET+\"Tp\")\n",
    "    \n",
    "    print(\"Cleaning directory...\")\n",
    "    shutil.rmtree(PATH_DATASET+\"casia\")\n",
    "    shutil.rmtree(PATH_DATASET+\"CASIA1\")\n",
    "    shutil.rmtree(PATH_DATASET+\"CASIA2\")\n",
    "    os.remove(PATH_DATASET+\"Tp/Thumbs.db\")\n",
    "    os.remove(PATH_DATASET+\"Au/Thumbs.db\")\n",
    "    print(\"Cleaning complete.\")\n",
    "\n",
    "def remove_images():\n",
    "    print(\"Removing images...\")\n",
    "    for i in range(1, 4):\n",
    "        os.remove(PATH_DATASET+\"Au/Au (\"+str(i)+\").jpg\")\n",
    "        os.remove(PATH_DATASET+\"Tp/Tp (\"+str(i)+\").jpg\")\n",
    "    print(\"Removing complete.\")"
   ]
  },
  {
   "cell_type": "code",
   "execution_count": 3,
   "metadata": {},
   "outputs": [
    {
     "name": "stdout",
     "output_type": "stream",
     "text": [
      "Dataset already Downloaded.\n"
     ]
    }
   ],
   "source": [
    "if not os.path.exists(PATH_DATASET+\"Au\"):\n",
    "    download_dataset()\n",
    "    clean_directory()\n",
    "else:\n",
    "    print(\"Dataset already Downloaded.\")"
   ]
  },
  {
   "cell_type": "code",
   "execution_count": 4,
   "metadata": {},
   "outputs": [],
   "source": [
    "REAL_IMAGE_PATH = '../dataset/Au'\n",
    "FAKE_IMAGE_PATH = \"../dataset/Tp\"\n",
    "IMG_SIZE = (128, 128)\n",
    "CLASS = ['real', 'fake']"
   ]
  },
  {
   "attachments": {},
   "cell_type": "markdown",
   "metadata": {},
   "source": [
    "## Loading the dataset"
   ]
  },
  {
   "cell_type": "code",
   "execution_count": 5,
   "metadata": {},
   "outputs": [
    {
     "data": {
      "text/html": [
       "<div>\n",
       "<style scoped>\n",
       "    .dataframe tbody tr th:only-of-type {\n",
       "        vertical-align: middle;\n",
       "    }\n",
       "\n",
       "    .dataframe tbody tr th {\n",
       "        vertical-align: top;\n",
       "    }\n",
       "\n",
       "    .dataframe thead th {\n",
       "        text-align: right;\n",
       "    }\n",
       "</style>\n",
       "<table border=\"1\" class=\"dataframe\">\n",
       "  <thead>\n",
       "    <tr style=\"text-align: right;\">\n",
       "      <th></th>\n",
       "      <th>category</th>\n",
       "      <th>image</th>\n",
       "      <th>class</th>\n",
       "    </tr>\n",
       "  </thead>\n",
       "  <tbody>\n",
       "    <tr>\n",
       "      <th>0</th>\n",
       "      <td>arc</td>\n",
       "      <td>../dataset/Tp\\Tp_S_NNN_S_B_arc20022_arc20022_0...</td>\n",
       "      <td>fake</td>\n",
       "    </tr>\n",
       "    <tr>\n",
       "      <th>1</th>\n",
       "      <td>pla</td>\n",
       "      <td>../dataset/Au\\Au_pla_30138.jpg</td>\n",
       "      <td>real</td>\n",
       "    </tr>\n",
       "    <tr>\n",
       "      <th>2</th>\n",
       "      <td>pla</td>\n",
       "      <td>../dataset/Tp\\Tp_S_CNN_M_N_pla10116_pla10116_1...</td>\n",
       "      <td>fake</td>\n",
       "    </tr>\n",
       "    <tr>\n",
       "      <th>3</th>\n",
       "      <td>arc</td>\n",
       "      <td>../dataset/Tp\\Tp_S_NNN_S_N_arc00095_arc00095_1...</td>\n",
       "      <td>fake</td>\n",
       "    </tr>\n",
       "    <tr>\n",
       "      <th>4</th>\n",
       "      <td>nat</td>\n",
       "      <td>../dataset/Au\\Au_nat_30054.jpg</td>\n",
       "      <td>real</td>\n",
       "    </tr>\n",
       "  </tbody>\n",
       "</table>\n",
       "</div>"
      ],
      "text/plain": [
       "  category                                              image class\n",
       "0      arc  ../dataset/Tp\\Tp_S_NNN_S_B_arc20022_arc20022_0...  fake\n",
       "1      pla                     ../dataset/Au\\Au_pla_30138.jpg  real\n",
       "2      pla  ../dataset/Tp\\Tp_S_CNN_M_N_pla10116_pla10116_1...  fake\n",
       "3      arc  ../dataset/Tp\\Tp_S_NNN_S_N_arc00095_arc00095_1...  fake\n",
       "4      nat                     ../dataset/Au\\Au_nat_30054.jpg  real"
      ]
     },
     "execution_count": 5,
     "metadata": {},
     "output_type": "execute_result"
    }
   ],
   "source": [
    "cabezera_au = \"category\", \"image\", \"class\"\n",
    "df_au = pd.DataFrame(columns=cabezera_au)\n",
    "\n",
    "cabezera_tp = \"category\", \"image\", \"region\", \"class\"\n",
    "df_tp = pd.DataFrame(columns=cabezera_tp)\n",
    "\n",
    "for idx, file in enumerate(os.listdir(REAL_IMAGE_PATH)):\n",
    "    img_path = os.path.join(REAL_IMAGE_PATH, file)\n",
    "    category = file.split(\"_\")\n",
    "\n",
    "    df_au = pd.concat([df_au, pd.DataFrame([[category[1], img_path, CLASS[0]]], columns=cabezera_au)], ignore_index=True)\n",
    "\n",
    "df_au = df_au[df_au.category != \"txt\"]\n",
    "df_au = df_au[df_au.category != \"ind\"]\n",
    "df_au = df_au.groupby('category').head(600)\n",
    "\n",
    "for file in os.listdir(FAKE_IMAGE_PATH):\n",
    "    #convert image to np array\n",
    "    img_path = os.path.join(FAKE_IMAGE_PATH, file)\n",
    "\n",
    "    category = file.split(\"_\")\n",
    "    category[5] = category[5][:3]\n",
    "    df_tp = pd.concat([df_tp, pd.DataFrame([[category[5], img_path, category[1], CLASS[1]]], columns=cabezera_tp)], ignore_index=True)\n",
    "\n",
    "df_tp = df_tp[df_tp.category != \"txt\"]\n",
    "df_tp = df_tp[df_tp.category != \"ind\"]\n",
    "df_tp = df_tp.groupby(['category', 'region']).head(300)\n",
    "df_tp = df_tp.drop(columns=['region'])\n",
    "\n",
    "df = pd.concat([df_au, df_tp], ignore_index=True)\n",
    "df = df.sample(frac=1).reset_index(drop=True)\n",
    "\n",
    "df.head()\n"
   ]
  },
  {
   "attachments": {},
   "cell_type": "markdown",
   "metadata": {},
   "source": [
    "## Creating Preprocessing Function"
   ]
  },
  {
   "cell_type": "code",
   "execution_count": 6,
   "metadata": {},
   "outputs": [],
   "source": [
    "def ela(image, quality=90):\n",
    "    # Comprimir y descomprimir la imagen\n",
    "    _, buffer = cv2.imencode('.jpg', image, [cv2.IMWRITE_JPEG_QUALITY, quality])\n",
    "    compressed_image = cv2.imdecode(np.frombuffer(buffer, np.uint8), cv2.IMREAD_COLOR)\n",
    "\n",
    "    #convert compressed_image uint8 to float32\n",
    "    compressed_image = compressed_image.astype(np.float32)\n",
    "\n",
    "    diff = 15 * cv2.absdiff(image, compressed_image)\n",
    "    \n",
    "    return diff\n",
    "\n",
    "def ela_v2(orig_img, quality=99):\n",
    "    _, buffer = cv2.imencode('.jpg', orig_img, [cv2.IMWRITE_JPEG_QUALITY, quality])\n",
    "    compressed_img = cv2.imdecode(np.frombuffer(buffer, np.uint8), cv2.IMREAD_COLOR)\n",
    "\n",
    "    orig_img = orig_img.astype(np.uint8)\n",
    "\n",
    "    diff = 15 * cv2.absdiff(orig_img, compressed_img)\n",
    "    gray_diff = cv2.cvtColor(diff, cv2.COLOR_BGR2GRAY)\n",
    "\n",
    "    # Aplicar umbralización para convertir en una imagen binaria\n",
    "    threshold_value, binary_image = cv2.threshold(gray_diff, 0, 255, cv2.THRESH_BINARY + cv2.THRESH_OTSU)\n",
    "\n",
    "    # Multiplicar la imagen binaria por la imagen de diferencia original para resaltar los píxeles falsos\n",
    "    diff_highlighted = cv2.bitwise_and(diff, diff, mask=binary_image)\n",
    "\n",
    "    # Aplicar filtrado Gaussiano para reducir el ruido\n",
    "    diff_filtered = cv2.GaussianBlur(diff_highlighted, (5, 5), 0)\n",
    "\n",
    "    return diff_filtered\n",
    "\n",
    "def preprocess_image(img):\n",
    "    image = ela_v2(img)\n",
    "    return tf.convert_to_tensor(image)"
   ]
  },
  {
   "attachments": {},
   "cell_type": "markdown",
   "metadata": {},
   "source": [
    "## Creating Model"
   ]
  },
  {
   "cell_type": "code",
   "execution_count": 7,
   "metadata": {},
   "outputs": [],
   "source": [
    "def normalitation(image):\n",
    "    pass\n",
    "    \n",
    "\n",
    "def flip_horizontal(image):\n",
    "    return tf.image.flip_left_right(image)\n",
    "\n",
    "def flip_vertical(image):\n",
    "    return tf.image.flip_up_down(image)\n",
    "\n",
    "def data_augmentation(x, y):\n",
    "    x_aug = []\n",
    "    y_aug = []\n",
    "\n",
    "    for i in range(len(x)):\n",
    "        x_aug.append(x[i])\n",
    "        y_aug.append(y[i])\n",
    "        x_aug.append(flip_horizontal(x[i]))\n",
    "        y_aug.append(y[i])\n",
    "        x_aug.append(flip_vertical(x[i]))\n",
    "        y_aug.append(y[i])\n",
    "\n",
    "    return x_aug, y_aug"
   ]
  },
  {
   "cell_type": "code",
   "execution_count": 8,
   "metadata": {},
   "outputs": [],
   "source": [
    "df_train, df_test = train_test_split(df, test_size=0.2, random_state=42)"
   ]
  },
  {
   "cell_type": "code",
   "execution_count": 9,
   "metadata": {},
   "outputs": [],
   "source": [
    "batch_size = 32"
   ]
  },
  {
   "cell_type": "code",
   "execution_count": 10,
   "metadata": {},
   "outputs": [
    {
     "name": "stdout",
     "output_type": "stream",
     "text": [
      "Found 4997 validated image filenames belonging to 2 classes.\n",
      "Found 1249 validated image filenames belonging to 2 classes.\n",
      "Found 1562 validated image filenames belonging to 2 classes.\n"
     ]
    }
   ],
   "source": [
    "train_datagen = ImageDataGenerator(\n",
    "    preprocessing_function=preprocess_image,\n",
    "    rotation_range=10,\n",
    "    horizontal_flip=True,\n",
    "    vertical_flip=True,\n",
    "    validation_split=0.2,\n",
    "    fill_mode='nearest'\n",
    ")\n",
    "\n",
    "test_datagen = ImageDataGenerator(\n",
    "    preprocessing_function=preprocess_image,\n",
    ")\n",
    "\n",
    "train_generator = train_datagen.flow_from_dataframe(\n",
    "    dataframe=df_train,\n",
    "    directory=None,\n",
    "    x_col=\"image\",\n",
    "    y_col=\"class\",\n",
    "    subset=\"training\",\n",
    "    batch_size=batch_size,\n",
    "    seed=42,\n",
    "    shuffle=True,\n",
    "    class_mode=\"binary\",\n",
    "    target_size=IMG_SIZE\n",
    ")\n",
    "\n",
    "val_generator = train_datagen.flow_from_dataframe(\n",
    "    dataframe=df_train,\n",
    "    directory=None,\n",
    "    x_col=\"image\",\n",
    "    y_col=\"class\",\n",
    "    subset=\"validation\",\n",
    "    batch_size=batch_size,\n",
    "    seed=42,\n",
    "    shuffle=True,\n",
    "    class_mode=\"binary\",\n",
    "    target_size=IMG_SIZE\n",
    ")\n",
    "\n",
    "test_generator = test_datagen.flow_from_dataframe(\n",
    "    dataframe=df_test,\n",
    "    directory=None,\n",
    "    x_col=\"image\",\n",
    "    y_col=\"class\",\n",
    "    batch_size=batch_size,\n",
    "    shuffle=False,\n",
    "    class_mode=\"binary\",\n",
    "    target_size=IMG_SIZE\n",
    ")"
   ]
  },
  {
   "attachments": {},
   "cell_type": "markdown",
   "metadata": {},
   "source": [
    "### Creating the checkpoints"
   ]
  },
  {
   "cell_type": "code",
   "execution_count": 11,
   "metadata": {},
   "outputs": [],
   "source": [
    "metrics = [\n",
    "    tf.keras.metrics.BinaryAccuracy(name='binary_accuracy'),\n",
    "    tf.keras.metrics.Precision(name='precision'),\n",
    "    tf.keras.metrics.Recall(name='recall'),\n",
    "    tf.keras.metrics.AUC(name='auc'),\n",
    "    tf.keras.metrics.AUC(name='prc', curve='PR')\n",
    "]\n",
    "\n",
    "early_stopping = EarlyStopping(\n",
    "    monitor='val_loss', \n",
    "    min_delta=0, \n",
    "    patience=10, \n",
    "    verbose=0, \n",
    "    mode='auto', \n",
    "    baseline=None, \n",
    "    restore_best_weights=False\n",
    ")\n",
    "\n",
    "reduce_lr = ReduceLROnPlateau(monitor='val_loss', factor=0.2, patience=5, min_lr=0.0001)\n",
    "\n",
    "\n",
    "model_chekpoint = ModelCheckpoint(\n",
    "    filepath='./../model/checkpoints', \n",
    "    monitor='val_loss', \n",
    "    verbose=0, \n",
    "    save_best_only=True,\n",
    "    save_weights_only=True, \n",
    "    mode='auto', \n",
    "    save_freq='epoch'\n",
    ")\n",
    "\n",
    "tensor_board = TensorBoard(\n",
    "    log_dir='./../model/logs',\n",
    "    histogram_freq=0,\n",
    "    write_graph=True,\n",
    "    write_images=False,\n",
    "    update_freq='epoch',\n",
    "    profile_batch=2,\n",
    "    embeddings_freq=0,\n",
    "    embeddings_metadata=None\n",
    ")\n",
    "\n",
    "callbacks = [early_stopping, model_chekpoint, tensor_board, reduce_lr]\n",
    "optimizer = Adam(1e-5)\n",
    "loss = keras.losses.BinaryCrossentropy()"
   ]
  },
  {
   "cell_type": "code",
   "execution_count": 12,
   "metadata": {},
   "outputs": [],
   "source": [
    "base_model = Xception(weights='imagenet', include_top=False, input_shape=(IMG_SIZE[0], IMG_SIZE[1], 3))\n",
    "\n",
    "# Congelar las capas de la base\n",
    "base_model.trainable = False\n",
    "\n",
    "data_augmentation = Sequential([\n",
    "    RandomFlip(\"horizontal_and_vertical\"), \n",
    "    RandomRotation(0.2),\n",
    "])\n",
    "\n",
    "# Definir la capa de preprocesamiento\n",
    "preprocessing_layer = Sequential([\n",
    "    Resizing(IMG_SIZE[0], IMG_SIZE[1]),\n",
    "    Rescaling(1./127.5, offset=-1),\n",
    "])\n",
    "\n",
    "# Agregar la capa de preprocesamiento a la entrada\n",
    "inputs = Input(shape=(IMG_SIZE[0], IMG_SIZE[1], 3))\n",
    "x = preprocessing_layer(inputs)\n",
    "x = data_augmentation(x)\n",
    "\n",
    "# Agregar capas adicionales en la parte superior del modelo pre-entrenado\n",
    "x = base_model(x)\n",
    "x = GlobalAveragePooling2D()(x)\n",
    "x = Dense(1024, activation='relu')(x)\n",
    "x = Dropout(0.2)(x)\n",
    "outputs = Dense(1, activation='sigmoid')(x)\n",
    "\n",
    "# Definir el modelo completo\n",
    "model = Model(inputs, outputs)"
   ]
  },
  {
   "cell_type": "code",
   "execution_count": 13,
   "metadata": {},
   "outputs": [
    {
     "name": "stdout",
     "output_type": "stream",
     "text": [
      "Model: \"model\"\n",
      "_________________________________________________________________\n",
      " Layer (type)                Output Shape              Param #   \n",
      "=================================================================\n",
      " input_2 (InputLayer)        [(None, 128, 128, 3)]     0         \n",
      "                                                                 \n",
      " sequential_1 (Sequential)   (None, 128, 128, 3)       0         \n",
      "                                                                 \n",
      " sequential (Sequential)     (None, 128, 128, 3)       0         \n",
      "                                                                 \n",
      " xception (Functional)       (None, 4, 4, 2048)        20861480  \n",
      "                                                                 \n",
      " global_average_pooling2d (G  (None, 2048)             0         \n",
      " lobalAveragePooling2D)                                          \n",
      "                                                                 \n",
      " dense (Dense)               (None, 1024)              2098176   \n",
      "                                                                 \n",
      " dropout (Dropout)           (None, 1024)              0         \n",
      "                                                                 \n",
      " dense_1 (Dense)             (None, 1)                 1025      \n",
      "                                                                 \n",
      "=================================================================\n",
      "Total params: 22,960,681\n",
      "Trainable params: 2,099,201\n",
      "Non-trainable params: 20,861,480\n",
      "_________________________________________________________________\n"
     ]
    }
   ],
   "source": [
    "model.summary()"
   ]
  },
  {
   "attachments": {},
   "cell_type": "markdown",
   "metadata": {},
   "source": [
    "### Training the model"
   ]
  },
  {
   "cell_type": "code",
   "execution_count": 14,
   "metadata": {},
   "outputs": [],
   "source": [
    "initial_epochs = 20\n",
    "fine_tune_epochs = 30\n",
    "total_epochs =  initial_epochs + fine_tune_epochs"
   ]
  },
  {
   "cell_type": "code",
   "execution_count": 15,
   "metadata": {},
   "outputs": [
    {
     "name": "stdout",
     "output_type": "stream",
     "text": [
      "Epoch 1/20\n",
      "WARNING:tensorflow:Using a while_loop for converting RngReadAndSkip cause there is no registered converter for this op.\n",
      "WARNING:tensorflow:Using a while_loop for converting Bitcast cause there is no registered converter for this op.\n",
      "WARNING:tensorflow:Using a while_loop for converting Bitcast cause there is no registered converter for this op.\n",
      "WARNING:tensorflow:Using a while_loop for converting StatelessRandomUniformV2 cause there is no registered converter for this op.\n",
      "WARNING:tensorflow:Using a while_loop for converting ImageProjectiveTransformV3 cause there is no registered converter for this op.\n",
      "WARNING:tensorflow:Using a while_loop for converting RngReadAndSkip cause there is no registered converter for this op.\n",
      "WARNING:tensorflow:Using a while_loop for converting Bitcast cause there is no registered converter for this op.\n",
      "WARNING:tensorflow:Using a while_loop for converting Bitcast cause there is no registered converter for this op.\n",
      "WARNING:tensorflow:Using a while_loop for converting StatelessRandomUniformV2 cause there is no registered converter for this op.\n",
      "WARNING:tensorflow:Using a while_loop for converting ImageProjectiveTransformV3 cause there is no registered converter for this op.\n",
      "157/157 [==============================] - 63s 344ms/step - loss: 0.6908 - binary_accuracy: 0.5113 - precision: 0.5566 - recall: 0.3079 - auc: 0.5626 - prc: 0.5531 - val_loss: 0.6860 - val_binary_accuracy: 0.5532 - val_precision: 0.6169 - val_recall: 0.4891 - val_auc: 0.5925 - val_prc: 0.6121 - lr: 1.0000e-05\n",
      "Epoch 2/20\n",
      "157/157 [==============================] - 40s 256ms/step - loss: 0.6847 - binary_accuracy: 0.5675 - precision: 0.5894 - recall: 0.5620 - auc: 0.5866 - prc: 0.5763 - val_loss: 0.6811 - val_binary_accuracy: 0.5781 - val_precision: 0.6076 - val_recall: 0.6511 - val_auc: 0.5975 - val_prc: 0.6195 - lr: 1.0000e-05\n",
      "Epoch 3/20\n",
      "157/157 [==============================] - 37s 237ms/step - loss: 0.6803 - binary_accuracy: 0.5866 - precision: 0.5996 - recall: 0.6226 - auc: 0.6004 - prc: 0.5931 - val_loss: 0.6793 - val_binary_accuracy: 0.5949 - val_precision: 0.6126 - val_recall: 0.7109 - val_auc: 0.5996 - val_prc: 0.6206 - lr: 1.0000e-05\n",
      "Epoch 4/20\n",
      "157/157 [==============================] - 34s 217ms/step - loss: 0.6755 - binary_accuracy: 0.6090 - precision: 0.6148 - recall: 0.6691 - auc: 0.6218 - prc: 0.6087 - val_loss: 0.6718 - val_binary_accuracy: 0.6021 - val_precision: 0.6103 - val_recall: 0.7591 - val_auc: 0.6167 - val_prc: 0.6360 - lr: 1.0000e-05\n",
      "Epoch 5/20\n",
      "157/157 [==============================] - 32s 204ms/step - loss: 0.6751 - binary_accuracy: 0.6096 - precision: 0.6081 - recall: 0.7063 - auc: 0.6200 - prc: 0.6136 - val_loss: 0.6720 - val_binary_accuracy: 0.6069 - val_precision: 0.6097 - val_recall: 0.7869 - val_auc: 0.6119 - val_prc: 0.6261 - lr: 1.0000e-05\n",
      "Epoch 6/20\n",
      "157/157 [==============================] - 33s 212ms/step - loss: 0.6700 - binary_accuracy: 0.6090 - precision: 0.6125 - recall: 0.6802 - auc: 0.6330 - prc: 0.6266 - val_loss: 0.6741 - val_binary_accuracy: 0.5853 - val_precision: 0.5946 - val_recall: 0.7664 - val_auc: 0.6030 - val_prc: 0.6160 - lr: 1.0000e-05\n",
      "Epoch 7/20\n",
      "157/157 [==============================] - 34s 215ms/step - loss: 0.6697 - binary_accuracy: 0.6180 - precision: 0.6200 - recall: 0.6902 - auc: 0.6369 - prc: 0.6263 - val_loss: 0.6677 - val_binary_accuracy: 0.6125 - val_precision: 0.6165 - val_recall: 0.7766 - val_auc: 0.6395 - val_prc: 0.6575 - lr: 1.0000e-05\n",
      "Epoch 8/20\n",
      "157/157 [==============================] - 32s 206ms/step - loss: 0.6671 - binary_accuracy: 0.6114 - precision: 0.6114 - recall: 0.6987 - auc: 0.6397 - prc: 0.6390 - val_loss: 0.6664 - val_binary_accuracy: 0.6173 - val_precision: 0.6211 - val_recall: 0.7752 - val_auc: 0.6196 - val_prc: 0.6386 - lr: 1.0000e-05\n",
      "Epoch 9/20\n",
      "157/157 [==============================] - 34s 215ms/step - loss: 0.6678 - binary_accuracy: 0.6114 - precision: 0.6158 - recall: 0.6768 - auc: 0.6402 - prc: 0.6367 - val_loss: 0.6716 - val_binary_accuracy: 0.6077 - val_precision: 0.6054 - val_recall: 0.8175 - val_auc: 0.6074 - val_prc: 0.6293 - lr: 1.0000e-05\n",
      "Epoch 10/20\n",
      "157/157 [==============================] - 33s 208ms/step - loss: 0.6649 - binary_accuracy: 0.6186 - precision: 0.6154 - recall: 0.7155 - auc: 0.6440 - prc: 0.6357 - val_loss: 0.6717 - val_binary_accuracy: 0.6013 - val_precision: 0.6047 - val_recall: 0.7883 - val_auc: 0.6043 - val_prc: 0.6225 - lr: 1.0000e-05\n",
      "Epoch 11/20\n",
      "157/157 [==============================] - 33s 208ms/step - loss: 0.6640 - binary_accuracy: 0.6204 - precision: 0.6198 - recall: 0.7029 - auc: 0.6482 - prc: 0.6396 - val_loss: 0.6627 - val_binary_accuracy: 0.6221 - val_precision: 0.6234 - val_recall: 0.7854 - val_auc: 0.6338 - val_prc: 0.6449 - lr: 1.0000e-05\n",
      "Epoch 12/20\n",
      "157/157 [==============================] - 33s 208ms/step - loss: 0.6607 - binary_accuracy: 0.6258 - precision: 0.6279 - recall: 0.6925 - auc: 0.6528 - prc: 0.6438 - val_loss: 0.6668 - val_binary_accuracy: 0.6037 - val_precision: 0.6112 - val_recall: 0.7620 - val_auc: 0.6286 - val_prc: 0.6415 - lr: 1.0000e-05\n",
      "Epoch 13/20\n",
      "157/157 [==============================] - 33s 210ms/step - loss: 0.6627 - binary_accuracy: 0.6252 - precision: 0.6282 - recall: 0.6883 - auc: 0.6530 - prc: 0.6524 - val_loss: 0.6626 - val_binary_accuracy: 0.6141 - val_precision: 0.6187 - val_recall: 0.7723 - val_auc: 0.6383 - val_prc: 0.6488 - lr: 1.0000e-05\n",
      "Epoch 14/20\n",
      "157/157 [==============================] - 32s 203ms/step - loss: 0.6597 - binary_accuracy: 0.6234 - precision: 0.6264 - recall: 0.6879 - auc: 0.6572 - prc: 0.6526 - val_loss: 0.6629 - val_binary_accuracy: 0.6125 - val_precision: 0.6115 - val_recall: 0.8044 - val_auc: 0.6227 - val_prc: 0.6396 - lr: 1.0000e-05\n",
      "Epoch 15/20\n",
      "157/157 [==============================] - 34s 217ms/step - loss: 0.6593 - binary_accuracy: 0.6066 - precision: 0.6067 - recall: 0.6975 - auc: 0.6496 - prc: 0.6510 - val_loss: 0.6635 - val_binary_accuracy: 0.6109 - val_precision: 0.6172 - val_recall: 0.7650 - val_auc: 0.6278 - val_prc: 0.6454 - lr: 1.0000e-05\n",
      "Epoch 16/20\n",
      "157/157 [==============================] - 33s 208ms/step - loss: 0.6609 - binary_accuracy: 0.6208 - precision: 0.6225 - recall: 0.6925 - auc: 0.6543 - prc: 0.6465 - val_loss: 0.6649 - val_binary_accuracy: 0.6029 - val_precision: 0.6082 - val_recall: 0.7752 - val_auc: 0.6219 - val_prc: 0.6441 - lr: 1.0000e-05\n",
      "Epoch 17/20\n",
      "157/157 [==============================] - 31s 196ms/step - loss: 0.6561 - binary_accuracy: 0.6238 - precision: 0.6208 - recall: 0.7152 - auc: 0.6618 - prc: 0.6621 - val_loss: 0.6643 - val_binary_accuracy: 0.6141 - val_precision: 0.6144 - val_recall: 0.7956 - val_auc: 0.6269 - val_prc: 0.6557 - lr: 1.0000e-05\n",
      "Epoch 18/20\n",
      "157/157 [==============================] - 33s 211ms/step - loss: 0.6558 - binary_accuracy: 0.6270 - precision: 0.6242 - recall: 0.7148 - auc: 0.6611 - prc: 0.6584 - val_loss: 0.6587 - val_binary_accuracy: 0.6141 - val_precision: 0.6224 - val_recall: 0.7533 - val_auc: 0.6340 - val_prc: 0.6498 - lr: 1.0000e-05\n",
      "Epoch 19/20\n",
      "157/157 [==============================] - 33s 208ms/step - loss: 0.6557 - binary_accuracy: 0.6240 - precision: 0.6247 - recall: 0.6979 - auc: 0.6601 - prc: 0.6554 - val_loss: 0.6608 - val_binary_accuracy: 0.6149 - val_precision: 0.6189 - val_recall: 0.7752 - val_auc: 0.6354 - val_prc: 0.6598 - lr: 1.0000e-05\n",
      "Epoch 20/20\n",
      "157/157 [==============================] - 32s 201ms/step - loss: 0.6550 - binary_accuracy: 0.6214 - precision: 0.6214 - recall: 0.7006 - auc: 0.6633 - prc: 0.6632 - val_loss: 0.6648 - val_binary_accuracy: 0.6005 - val_precision: 0.6054 - val_recall: 0.7796 - val_auc: 0.6266 - val_prc: 0.6409 - lr: 1.0000e-05\n"
     ]
    }
   ],
   "source": [
    "model.compile(optimizer=optimizer, loss=loss, metrics=metrics)\n",
    "history = model.fit(\n",
    "    train_generator,\n",
    "    epochs=initial_epochs, \n",
    "    batch_size=batch_size, \n",
    "    validation_data=val_generator,\n",
    "    callbacks=callbacks\n",
    ")"
   ]
  },
  {
   "cell_type": "code",
   "execution_count": 16,
   "metadata": {},
   "outputs": [
    {
     "name": "stdout",
     "output_type": "stream",
     "text": [
      "Number of layers in the base model:  132\n"
     ]
    }
   ],
   "source": [
    "print(\"Number of layers in the base model: \", len(base_model.layers))"
   ]
  },
  {
   "cell_type": "code",
   "execution_count": 17,
   "metadata": {},
   "outputs": [],
   "source": [
    "base_model.trainable = True\n",
    "\n",
    "fine_tune_at = -10\n",
    "\n",
    "# Freeze all the layers before the `fine_tune_at` layer\n",
    "for layer in base_model.layers[:fine_tune_at]:\n",
    "    layer.trainable = False"
   ]
  },
  {
   "cell_type": "code",
   "execution_count": 18,
   "metadata": {},
   "outputs": [],
   "source": [
    "optimizer = Adam(1e-5)"
   ]
  },
  {
   "cell_type": "code",
   "execution_count": 19,
   "metadata": {},
   "outputs": [
    {
     "name": "stdout",
     "output_type": "stream",
     "text": [
      "Epoch 20/50\n",
      "WARNING:tensorflow:Using a while_loop for converting RngReadAndSkip cause there is no registered converter for this op.\n",
      "WARNING:tensorflow:Using a while_loop for converting Bitcast cause there is no registered converter for this op.\n",
      "WARNING:tensorflow:Using a while_loop for converting Bitcast cause there is no registered converter for this op.\n",
      "WARNING:tensorflow:Using a while_loop for converting StatelessRandomUniformV2 cause there is no registered converter for this op.\n",
      "WARNING:tensorflow:Using a while_loop for converting ImageProjectiveTransformV3 cause there is no registered converter for this op.\n",
      "WARNING:tensorflow:Using a while_loop for converting RngReadAndSkip cause there is no registered converter for this op.\n",
      "WARNING:tensorflow:Using a while_loop for converting Bitcast cause there is no registered converter for this op.\n",
      "WARNING:tensorflow:Using a while_loop for converting Bitcast cause there is no registered converter for this op.\n",
      "WARNING:tensorflow:Using a while_loop for converting StatelessRandomUniformV2 cause there is no registered converter for this op.\n",
      "WARNING:tensorflow:Using a while_loop for converting ImageProjectiveTransformV3 cause there is no registered converter for this op.\n",
      "157/157 [==============================] - 36s 209ms/step - loss: 0.6581 - binary_accuracy: 0.6158 - precision: 0.6101 - recall: 0.7495 - auc: 0.6526 - prc: 0.6513 - val_loss: 0.6758 - val_binary_accuracy: 0.6205 - val_precision: 0.6337 - val_recall: 0.7299 - val_auc: 0.6427 - val_prc: 0.6754 - lr: 1.0000e-05\n",
      "Epoch 21/50\n",
      "157/157 [==============================] - 31s 198ms/step - loss: 0.6511 - binary_accuracy: 0.6212 - precision: 0.6234 - recall: 0.6906 - auc: 0.6698 - prc: 0.6711 - val_loss: 0.6732 - val_binary_accuracy: 0.6005 - val_precision: 0.6120 - val_recall: 0.7416 - val_auc: 0.6419 - val_prc: 0.6814 - lr: 1.0000e-05\n",
      "Epoch 22/50\n",
      "157/157 [==============================] - 33s 213ms/step - loss: 0.6505 - binary_accuracy: 0.6238 - precision: 0.6284 - recall: 0.6810 - auc: 0.6688 - prc: 0.6727 - val_loss: 0.6487 - val_binary_accuracy: 0.6173 - val_precision: 0.6329 - val_recall: 0.7197 - val_auc: 0.6572 - val_prc: 0.6861 - lr: 1.0000e-05\n",
      "Epoch 23/50\n",
      "157/157 [==============================] - 32s 207ms/step - loss: 0.6462 - binary_accuracy: 0.6338 - precision: 0.6410 - recall: 0.6764 - auc: 0.6749 - prc: 0.6857 - val_loss: 0.6424 - val_binary_accuracy: 0.6405 - val_precision: 0.6411 - val_recall: 0.7825 - val_auc: 0.6700 - val_prc: 0.7009 - lr: 1.0000e-05\n",
      "Epoch 24/50\n",
      "157/157 [==============================] - 31s 196ms/step - loss: 0.6419 - binary_accuracy: 0.6342 - precision: 0.6384 - recall: 0.6879 - auc: 0.6799 - prc: 0.6992 - val_loss: 0.6498 - val_binary_accuracy: 0.6221 - val_precision: 0.6360 - val_recall: 0.7270 - val_auc: 0.6631 - val_prc: 0.6844 - lr: 1.0000e-05\n",
      "Epoch 25/50\n",
      "157/157 [==============================] - 33s 208ms/step - loss: 0.6387 - binary_accuracy: 0.6314 - precision: 0.6415 - recall: 0.6641 - auc: 0.6849 - prc: 0.6971 - val_loss: 0.6504 - val_binary_accuracy: 0.6101 - val_precision: 0.6505 - val_recall: 0.6248 - val_auc: 0.6562 - val_prc: 0.7024 - lr: 1.0000e-05\n",
      "Epoch 26/50\n",
      "157/157 [==============================] - 32s 203ms/step - loss: 0.6392 - binary_accuracy: 0.6338 - precision: 0.6380 - recall: 0.6875 - auc: 0.6827 - prc: 0.7034 - val_loss: 0.6439 - val_binary_accuracy: 0.6317 - val_precision: 0.6419 - val_recall: 0.7431 - val_auc: 0.6677 - val_prc: 0.7025 - lr: 1.0000e-05\n",
      "Epoch 27/50\n",
      "157/157 [==============================] - 31s 196ms/step - loss: 0.6352 - binary_accuracy: 0.6416 - precision: 0.6417 - recall: 0.7075 - auc: 0.6922 - prc: 0.7013 - val_loss: 0.6473 - val_binary_accuracy: 0.6205 - val_precision: 0.6518 - val_recall: 0.6613 - val_auc: 0.6630 - val_prc: 0.7049 - lr: 1.0000e-05\n",
      "Epoch 28/50\n",
      "157/157 [==============================] - 32s 206ms/step - loss: 0.6305 - binary_accuracy: 0.6464 - precision: 0.6556 - recall: 0.6775 - auc: 0.6981 - prc: 0.7108 - val_loss: 0.6498 - val_binary_accuracy: 0.6261 - val_precision: 0.6430 - val_recall: 0.7153 - val_auc: 0.6602 - val_prc: 0.6886 - lr: 1.0000e-05\n",
      "Epoch 29/50\n",
      "157/157 [==============================] - 33s 207ms/step - loss: 0.6279 - binary_accuracy: 0.6376 - precision: 0.6437 - recall: 0.6825 - auc: 0.7005 - prc: 0.7168 - val_loss: 0.6383 - val_binary_accuracy: 0.6397 - val_precision: 0.6497 - val_recall: 0.7445 - val_auc: 0.6799 - val_prc: 0.7002 - lr: 1.0000e-05\n",
      "Epoch 30/50\n",
      "157/157 [==============================] - 31s 199ms/step - loss: 0.6270 - binary_accuracy: 0.6558 - precision: 0.6590 - recall: 0.7040 - auc: 0.7035 - prc: 0.7196 - val_loss: 0.6408 - val_binary_accuracy: 0.6229 - val_precision: 0.6636 - val_recall: 0.6336 - val_auc: 0.6805 - val_prc: 0.7159 - lr: 1.0000e-05\n",
      "Epoch 31/50\n",
      "157/157 [==============================] - 33s 210ms/step - loss: 0.6279 - binary_accuracy: 0.6508 - precision: 0.6600 - recall: 0.6810 - auc: 0.7015 - prc: 0.7170 - val_loss: 0.6395 - val_binary_accuracy: 0.6245 - val_precision: 0.6607 - val_recall: 0.6482 - val_auc: 0.6786 - val_prc: 0.7132 - lr: 1.0000e-05\n",
      "Epoch 32/50\n",
      "157/157 [==============================] - 32s 203ms/step - loss: 0.6261 - binary_accuracy: 0.6490 - precision: 0.6546 - recall: 0.6917 - auc: 0.7058 - prc: 0.7174 - val_loss: 0.6450 - val_binary_accuracy: 0.6189 - val_precision: 0.6917 - val_recall: 0.5504 - val_auc: 0.6878 - val_prc: 0.7273 - lr: 1.0000e-05\n",
      "Epoch 33/50\n",
      "157/157 [==============================] - 31s 200ms/step - loss: 0.6239 - binary_accuracy: 0.6502 - precision: 0.6616 - recall: 0.6733 - auc: 0.7076 - prc: 0.7225 - val_loss: 0.6437 - val_binary_accuracy: 0.6309 - val_precision: 0.6569 - val_recall: 0.6847 - val_auc: 0.6759 - val_prc: 0.7103 - lr: 1.0000e-05\n",
      "Epoch 34/50\n",
      "157/157 [==============================] - 33s 213ms/step - loss: 0.6245 - binary_accuracy: 0.6492 - precision: 0.6584 - recall: 0.6798 - auc: 0.7067 - prc: 0.7190 - val_loss: 0.6300 - val_binary_accuracy: 0.6485 - val_precision: 0.6680 - val_recall: 0.7139 - val_auc: 0.6931 - val_prc: 0.7359 - lr: 1.0000e-05\n",
      "Epoch 35/50\n",
      "157/157 [==============================] - 32s 202ms/step - loss: 0.6224 - binary_accuracy: 0.6604 - precision: 0.6746 - recall: 0.6733 - auc: 0.7128 - prc: 0.7206 - val_loss: 0.6374 - val_binary_accuracy: 0.6397 - val_precision: 0.6671 - val_recall: 0.6847 - val_auc: 0.6840 - val_prc: 0.7073 - lr: 1.0000e-05\n",
      "Epoch 36/50\n",
      "157/157 [==============================] - 31s 199ms/step - loss: 0.6188 - binary_accuracy: 0.6512 - precision: 0.6606 - recall: 0.6806 - auc: 0.7123 - prc: 0.7253 - val_loss: 0.6470 - val_binary_accuracy: 0.6261 - val_precision: 0.6544 - val_recall: 0.6745 - val_auc: 0.6683 - val_prc: 0.7107 - lr: 1.0000e-05\n",
      "Epoch 37/50\n",
      "157/157 [==============================] - 33s 209ms/step - loss: 0.6165 - binary_accuracy: 0.6614 - precision: 0.6729 - recall: 0.6821 - auc: 0.7178 - prc: 0.7344 - val_loss: 0.6371 - val_binary_accuracy: 0.6253 - val_precision: 0.6698 - val_recall: 0.6248 - val_auc: 0.6810 - val_prc: 0.7108 - lr: 1.0000e-05\n",
      "Epoch 38/50\n",
      "157/157 [==============================] - 32s 202ms/step - loss: 0.6128 - binary_accuracy: 0.6682 - precision: 0.6770 - recall: 0.6952 - auc: 0.7233 - prc: 0.7337 - val_loss: 0.6405 - val_binary_accuracy: 0.6373 - val_precision: 0.6648 - val_recall: 0.6832 - val_auc: 0.6826 - val_prc: 0.7090 - lr: 1.0000e-05\n",
      "Epoch 39/50\n",
      "157/157 [==============================] - 32s 202ms/step - loss: 0.6182 - binary_accuracy: 0.6584 - precision: 0.6706 - recall: 0.6775 - auc: 0.7179 - prc: 0.7294 - val_loss: 0.6432 - val_binary_accuracy: 0.6365 - val_precision: 0.6808 - val_recall: 0.6350 - val_auc: 0.6728 - val_prc: 0.7175 - lr: 1.0000e-05\n",
      "Epoch 40/50\n",
      "157/157 [==============================] - 33s 208ms/step - loss: 0.6187 - binary_accuracy: 0.6578 - precision: 0.6723 - recall: 0.6702 - auc: 0.7135 - prc: 0.7319 - val_loss: 0.6332 - val_binary_accuracy: 0.6253 - val_precision: 0.6575 - val_recall: 0.6613 - val_auc: 0.6861 - val_prc: 0.7307 - lr: 1.0000e-05\n",
      "Epoch 41/50\n",
      "157/157 [==============================] - 32s 203ms/step - loss: 0.6095 - binary_accuracy: 0.6720 - precision: 0.6808 - recall: 0.6983 - auc: 0.7295 - prc: 0.7418 - val_loss: 0.6339 - val_binary_accuracy: 0.6477 - val_precision: 0.6667 - val_recall: 0.7153 - val_auc: 0.6924 - val_prc: 0.7269 - lr: 1.0000e-05\n",
      "Epoch 42/50\n",
      "157/157 [==============================] - 31s 199ms/step - loss: 0.6127 - binary_accuracy: 0.6694 - precision: 0.6869 - recall: 0.6722 - auc: 0.7243 - prc: 0.7355 - val_loss: 0.6465 - val_binary_accuracy: 0.6301 - val_precision: 0.6591 - val_recall: 0.6745 - val_auc: 0.6787 - val_prc: 0.7052 - lr: 1.0000e-05\n",
      "Epoch 43/50\n",
      "157/157 [==============================] - 33s 208ms/step - loss: 0.6062 - binary_accuracy: 0.6672 - precision: 0.6787 - recall: 0.6868 - auc: 0.7317 - prc: 0.7487 - val_loss: 0.6383 - val_binary_accuracy: 0.6373 - val_precision: 0.6818 - val_recall: 0.6350 - val_auc: 0.6855 - val_prc: 0.7221 - lr: 1.0000e-05\n",
      "Epoch 44/50\n",
      "157/157 [==============================] - 32s 202ms/step - loss: 0.6042 - binary_accuracy: 0.6698 - precision: 0.6814 - recall: 0.6887 - auc: 0.7338 - prc: 0.7474 - val_loss: 0.6616 - val_binary_accuracy: 0.6261 - val_precision: 0.6397 - val_recall: 0.7285 - val_auc: 0.6638 - val_prc: 0.6923 - lr: 1.0000e-05\n"
     ]
    }
   ],
   "source": [
    "model.compile(optimizer=optimizer, loss=loss, metrics=metrics)\n",
    "history_fine = model.fit(\n",
    "    train_generator,\n",
    "    epochs=total_epochs, \n",
    "    initial_epoch=history.epoch[-1],\n",
    "    batch_size=batch_size, \n",
    "    validation_data=val_generator,\n",
    "    callbacks=callbacks\n",
    ")"
   ]
  },
  {
   "attachments": {},
   "cell_type": "markdown",
   "metadata": {},
   "source": [
    "### Showing the results"
   ]
  },
  {
   "cell_type": "code",
   "execution_count": 20,
   "metadata": {},
   "outputs": [],
   "source": [
    "acc = history.history['binary_accuracy'] + history_fine.history['binary_accuracy']\n",
    "val_acc = history.history['val_binary_accuracy'] + history_fine.history['val_binary_accuracy']\n",
    "\n",
    "loss = history.history['loss'] + history_fine.history['loss']\n",
    "val_loss = history.history['val_loss'] + history_fine.history['val_loss']"
   ]
  },
  {
   "cell_type": "code",
   "execution_count": 21,
   "metadata": {},
   "outputs": [
    {
     "data": {
      "image/png": "[encoded data removed]",
      "text/plain": [
       "<Figure size 800x800 with 2 Axes>"
      ]
     },
     "metadata": {},
     "output_type": "display_data"
    }
   ],
   "source": [
    "plt.figure(figsize=(8, 8))\n",
    "plt.subplot(2, 1, 1)\n",
    "plt.plot(acc, label='Training Accuracy')\n",
    "plt.plot(val_acc, label='Validation Accuracy')\n",
    "plt.plot([initial_epochs-1,initial_epochs-1],\n",
    "          plt.ylim(), label='Start Fine Tuning')\n",
    "plt.legend(loc='lower right')\n",
    "plt.title('Training and Validation Accuracy')\n",
    "\n",
    "plt.subplot(2, 1, 2)\n",
    "plt.plot(loss, label='Training Loss')\n",
    "plt.plot(val_loss, label='Validation Loss')\n",
    "plt.ylim([0, 1.0])\n",
    "plt.plot([initial_epochs-1,initial_epochs-1],\n",
    "         plt.ylim(), label='Start Fine Tuning')\n",
    "plt.legend(loc='upper right')\n",
    "plt.title('Training and Validation Loss')\n",
    "plt.xlabel('epoch')\n",
    "plt.show()"
   ]
  },
  {
   "attachments": {},
   "cell_type": "markdown",
   "metadata": {},
   "source": [
    "### Evaluating the model"
   ]
  },
  {
   "cell_type": "code",
   "execution_count": 22,
   "metadata": {},
   "outputs": [
    {
     "name": "stdout",
     "output_type": "stream",
     "text": [
      "49/49 [==============================] - 6s 125ms/step - loss: 0.6438 - binary_accuracy: 0.6325 - precision: 0.7029 - recall: 0.6396 - auc: 0.6788 - prc: 0.7347\n"
     ]
    },
    {
     "data": {
      "text/plain": [
       "[0.6438077688217163,\n",
       " 0.6325224041938782,\n",
       " 0.7028985619544983,\n",
       " 0.6395604610443115,\n",
       " 0.6788233518600464,\n",
       " 0.7346827387809753]"
      ]
     },
     "execution_count": 22,
     "metadata": {},
     "output_type": "execute_result"
    }
   ],
   "source": [
    "model.evaluate(test_generator)"
   ]
  },
  {
   "cell_type": "code",
   "execution_count": null,
   "metadata": {},
   "outputs": [],
   "source": [
    "model.save('./../model/detect_manipulated_images_model_resNet50.h5')"
   ]
  }
 ],
 "metadata": {
  "kernelspec": {
   "display_name": "Python 3",
   "language": "python",
   "name": "python3"
  },
  "language_info": {
   "codemirror_mode": {
    "name": "ipython",
    "version": 3
   },
   "file_extension": ".py",
   "mimetype": "text/x-python",
   "name": "python",
   "nbconvert_exporter": "python",
   "pygments_lexer": "ipython3",
   "version": "3.9.16"
  },
  "orig_nbformat": 4,
  "vscode": {
   "interpreter": {
    "hash": "e8a00227fbbeabfee3e4c7eae78ea7efab3aaaa5b33f3ff28071daefabaeab66"
   }
  }
 },
 "nbformat": 4,
 "nbformat_minor": 2
}

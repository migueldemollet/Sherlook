{
 "cells": [
  {
   "attachments": {},
   "cell_type": "markdown",
   "metadata": {},
   "source": [
    "# Detection of modified images or videos using Neural Networks"
   ]
  },
  {
   "attachments": {},
   "cell_type": "markdown",
   "metadata": {},
   "source": [
    "## Importing the libraries"
   ]
  },
  {
   "cell_type": "code",
   "execution_count": 31,
   "metadata": {},
   "outputs": [],
   "source": [
    "import cv2\n",
    "import numpy as np\n",
    "import matplotlib.pyplot as plt\n",
    "from PIL import Image, ImageChops, ImageFilter\n",
    "import pandas as pd\n",
    "import os\n",
    "import io\n",
    "import shutil\n",
    "from kaggle.api.kaggle_api_extended import KaggleApi\n",
    "import pywt\n",
    "\n",
    "import tensorflow as tf\n",
    "from tensorflow import keras\n",
    "from keras import backend as K\n",
    "from keras.utils import to_categorical\n",
    "from keras.models import Sequential, Model, load_model\n",
    "from keras.optimizers import Adam\n",
    "from keras.layers import Conv2D, MaxPooling2D, Flatten, Dense, Dropout, BatchNormalization, Activation, Input, Lambda, Resizing, GlobalAveragePooling2D\n",
    "from keras.applications import ResNet50, MobileNet, VGG16\n",
    "from keras.regularizers import l2\n",
    "from keras.callbacks import EarlyStopping, ModelCheckpoint, TensorBoard, ReduceLROnPlateau\n",
    "from sklearn.model_selection import train_test_split\n",
    "from sklearn.metrics import roc_curve, auc, confusion_matrix\n",
    "import itertools\n",
    "\n",
    "K.clear_session()\n",
    "tf.compat.v1.reset_default_graph()\n",
    "tf.compat.v1.enable_eager_execution()"
   ]
  },
  {
   "attachments": {},
   "cell_type": "markdown",
   "metadata": {},
   "source": [
    "## Downloading the dataset"
   ]
  },
  {
   "cell_type": "code",
   "execution_count": 32,
   "metadata": {},
   "outputs": [],
   "source": [
    "URL = \"sophatvathana/casia-dataset\"\n",
    "PATH_DATASET = './../dataset/'\n",
    "\n",
    "def download_dataset():\n",
    "    api = KaggleApi()\n",
    "    api.authenticate()\n",
    "    print(\"Downloading files...\")\n",
    "    api.dataset_download_files('sophatvathana/casia-dataset', path=PATH_DATASET, unzip=True)\n",
    "\n",
    "    print(\"\\rDownload complete.\")\n",
    "\n",
    "\n",
    "def clean_directory():\n",
    "    print(\"Moving folder...\")\n",
    "    os.rename(PATH_DATASET+\"CASIA2/Au\", PATH_DATASET+\"Au\")\n",
    "    os.rename(PATH_DATASET+\"CASIA2/Tp\", PATH_DATASET+\"Tp\")\n",
    "    \n",
    "    print(\"Cleaning directory...\")\n",
    "    shutil.rmtree(PATH_DATASET+\"casia\")\n",
    "    shutil.rmtree(PATH_DATASET+\"CASIA1\")\n",
    "    shutil.rmtree(PATH_DATASET+\"CASIA2\")\n",
    "    os.remove(PATH_DATASET+\"Tp/Thumbs.db\")\n",
    "    os.remove(PATH_DATASET+\"Au/Thumbs.db\")\n",
    "    print(\"Cleaning complete.\")"
   ]
  },
  {
   "cell_type": "code",
   "execution_count": 33,
   "metadata": {},
   "outputs": [
    {
     "name": "stdout",
     "output_type": "stream",
     "text": [
      "Dataset already Downloaded.\n"
     ]
    }
   ],
   "source": [
    "if not os.path.exists(PATH_DATASET+\"Au\"):\n",
    "    download_dataset()\n",
    "    clean_directory()\n",
    "else:\n",
    "    print(\"Dataset already Downloaded.\")"
   ]
  },
  {
   "cell_type": "code",
   "execution_count": 34,
   "metadata": {},
   "outputs": [],
   "source": [
    "REAL_IMAGE_PATH = '../dataset/Au'\n",
    "FAKE_IMAGE_PATH = \"../dataset/Tp\"\n",
    "IMG_SIZE = (128, 128)\n",
    "CLASS = ['Manipulated', 'Original']"
   ]
  },
  {
   "cell_type": "code",
   "execution_count": 35,
   "metadata": {},
   "outputs": [
    {
     "data": {
      "text/html": [
       "<div>\n",
       "<style scoped>\n",
       "    .dataframe tbody tr th:only-of-type {\n",
       "        vertical-align: middle;\n",
       "    }\n",
       "\n",
       "    .dataframe tbody tr th {\n",
       "        vertical-align: top;\n",
       "    }\n",
       "\n",
       "    .dataframe thead th {\n",
       "        text-align: right;\n",
       "    }\n",
       "</style>\n",
       "<table border=\"1\" class=\"dataframe\">\n",
       "  <thead>\n",
       "    <tr style=\"text-align: right;\">\n",
       "      <th></th>\n",
       "      <th>category</th>\n",
       "      <th>image</th>\n",
       "      <th>real</th>\n",
       "    </tr>\n",
       "  </thead>\n",
       "  <tbody>\n",
       "    <tr>\n",
       "      <th>0</th>\n",
       "      <td>ani</td>\n",
       "      <td>[[[222, 181, 72], [219, 179, 73], [216, 175, 7...</td>\n",
       "      <td>1</td>\n",
       "    </tr>\n",
       "    <tr>\n",
       "      <th>1</th>\n",
       "      <td>ani</td>\n",
       "      <td>[[[149, 126, 113], [139, 115, 104], [158, 125,...</td>\n",
       "      <td>1</td>\n",
       "    </tr>\n",
       "    <tr>\n",
       "      <th>2</th>\n",
       "      <td>ani</td>\n",
       "      <td>[[[0, 10, 8], [19, 36, 25], [7, 30, 11], [29, ...</td>\n",
       "      <td>1</td>\n",
       "    </tr>\n",
       "    <tr>\n",
       "      <th>3</th>\n",
       "      <td>ani</td>\n",
       "      <td>[[[41, 20, 22], [40, 22, 23], [41, 23, 24], [3...</td>\n",
       "      <td>1</td>\n",
       "    </tr>\n",
       "    <tr>\n",
       "      <th>4</th>\n",
       "      <td>ani</td>\n",
       "      <td>[[[80, 22, 10], [83, 23, 11], [84, 25, 10], [8...</td>\n",
       "      <td>1</td>\n",
       "    </tr>\n",
       "  </tbody>\n",
       "</table>\n",
       "</div>"
      ],
      "text/plain": [
       "  category                                              image real\n",
       "0      ani  [[[222, 181, 72], [219, 179, 73], [216, 175, 7...    1\n",
       "1      ani  [[[149, 126, 113], [139, 115, 104], [158, 125,...    1\n",
       "2      ani  [[[0, 10, 8], [19, 36, 25], [7, 30, 11], [29, ...    1\n",
       "3      ani  [[[41, 20, 22], [40, 22, 23], [41, 23, 24], [3...    1\n",
       "4      ani  [[[80, 22, 10], [83, 23, 11], [84, 25, 10], [8...    1"
      ]
     },
     "execution_count": 35,
     "metadata": {},
     "output_type": "execute_result"
    }
   ],
   "source": [
    "cabezera = \"category\", \"image\", \"real\"\n",
    "df_au = pd.DataFrame(columns=cabezera)\n",
    "\n",
    "for idx, file in enumerate(os.listdir(REAL_IMAGE_PATH)):\n",
    "    img = cv2.imread(os.path.join(REAL_IMAGE_PATH, file))\n",
    "    img = cv2.resize(img, IMG_SIZE)\n",
    "    category = file.split(\"_\")\n",
    "\n",
    "    df_au = pd.concat([df_au, pd.DataFrame([[category[1], img,  1]], columns=cabezera)], ignore_index=True)\n",
    "\n",
    "df_au.head()"
   ]
  },
  {
   "cell_type": "code",
   "execution_count": 36,
   "metadata": {},
   "outputs": [],
   "source": [
    "#remove categoriy txt because it is not in the dataset\n",
    "df_au = df_au[df_au.category != \"txt\"]\n",
    "df_au = df_au[df_au.category != \"ind\"]\n",
    "#mezclar el dataframe\n",
    "df_au = df_au.sample(frac=1).reset_index(drop=True)"
   ]
  },
  {
   "cell_type": "code",
   "execution_count": 37,
   "metadata": {},
   "outputs": [],
   "source": [
    "#mezclar el dataframe\n",
    "df_au = df_au.sample(frac=1).reset_index(drop=True)"
   ]
  },
  {
   "attachments": {},
   "cell_type": "markdown",
   "metadata": {},
   "source": [
    "Realizaremos el mismo proceso con las imagenes modificadas"
   ]
  },
  {
   "cell_type": "code",
   "execution_count": 38,
   "metadata": {},
   "outputs": [
    {
     "data": {
      "text/html": [
       "<div>\n",
       "<style scoped>\n",
       "    .dataframe tbody tr th:only-of-type {\n",
       "        vertical-align: middle;\n",
       "    }\n",
       "\n",
       "    .dataframe tbody tr th {\n",
       "        vertical-align: top;\n",
       "    }\n",
       "\n",
       "    .dataframe thead th {\n",
       "        text-align: right;\n",
       "    }\n",
       "</style>\n",
       "<table border=\"1\" class=\"dataframe\">\n",
       "  <thead>\n",
       "    <tr style=\"text-align: right;\">\n",
       "      <th></th>\n",
       "      <th>category</th>\n",
       "      <th>image</th>\n",
       "      <th>region</th>\n",
       "      <th>real</th>\n",
       "    </tr>\n",
       "  </thead>\n",
       "  <tbody>\n",
       "    <tr>\n",
       "      <th>0</th>\n",
       "      <td>ani</td>\n",
       "      <td>[[[193, 170, 150], [197, 174, 154], [194, 174,...</td>\n",
       "      <td>D</td>\n",
       "      <td>0</td>\n",
       "    </tr>\n",
       "    <tr>\n",
       "      <th>1</th>\n",
       "      <td>art</td>\n",
       "      <td>[[[8, 12, 17], [8, 12, 17], [9, 13, 18], [6, 1...</td>\n",
       "      <td>D</td>\n",
       "      <td>0</td>\n",
       "    </tr>\n",
       "    <tr>\n",
       "      <th>2</th>\n",
       "      <td>art</td>\n",
       "      <td>[[[187, 179, 179], [128, 135, 144], [131, 148,...</td>\n",
       "      <td>D</td>\n",
       "      <td>0</td>\n",
       "    </tr>\n",
       "    <tr>\n",
       "      <th>3</th>\n",
       "      <td>ani</td>\n",
       "      <td>[[[54, 84, 65], [69, 94, 84], [53, 78, 74], [5...</td>\n",
       "      <td>D</td>\n",
       "      <td>0</td>\n",
       "    </tr>\n",
       "    <tr>\n",
       "      <th>4</th>\n",
       "      <td>ind</td>\n",
       "      <td>[[[8, 13, 11], [16, 13, 15], [13, 12, 14], [10...</td>\n",
       "      <td>D</td>\n",
       "      <td>0</td>\n",
       "    </tr>\n",
       "  </tbody>\n",
       "</table>\n",
       "</div>"
      ],
      "text/plain": [
       "  category                                              image region real\n",
       "0      ani  [[[193, 170, 150], [197, 174, 154], [194, 174,...      D    0\n",
       "1      art  [[[8, 12, 17], [8, 12, 17], [9, 13, 18], [6, 1...      D    0\n",
       "2      art  [[[187, 179, 179], [128, 135, 144], [131, 148,...      D    0\n",
       "3      ani  [[[54, 84, 65], [69, 94, 84], [53, 78, 74], [5...      D    0\n",
       "4      ind  [[[8, 13, 11], [16, 13, 15], [13, 12, 14], [10...      D    0"
      ]
     },
     "execution_count": 38,
     "metadata": {},
     "output_type": "execute_result"
    }
   ],
   "source": [
    "cabezera = \"category\", \"image\", \"region\", \"real\"\n",
    "key_list = [\"ani\", \"arc\", \"art\", \"cha\", \"nat\", \"pla\", \"sec\"]\n",
    "df_tp = pd.DataFrame(columns=cabezera)\n",
    "\n",
    "for file in os.listdir(FAKE_IMAGE_PATH):\n",
    "    #convert image to np array\n",
    "    img = cv2.imread(os.path.join(FAKE_IMAGE_PATH, file))\n",
    "    img = cv2.resize(img, IMG_SIZE)\n",
    "    category = file.split(\"_\")\n",
    "    category[5] = category[5][:3]\n",
    "    df_tp = pd.concat([df_tp, pd.DataFrame([[category[5], img, category[1], 0]], columns=cabezera)], ignore_index=True)\n",
    "\n",
    "df_tp.head()"
   ]
  },
  {
   "cell_type": "code",
   "execution_count": 39,
   "metadata": {},
   "outputs": [],
   "source": [
    "df_tp = df_tp[df_tp.category != \"txt\"]\n",
    "df_tp = df_tp[df_tp.category != \"ind\"]\n",
    "df_tp = df_tp.sample(frac=1).reset_index(drop=True)"
   ]
  },
  {
   "cell_type": "code",
   "execution_count": 40,
   "metadata": {},
   "outputs": [],
   "source": [
    "df = pd.concat([df_au, df_tp], ignore_index=True)"
   ]
  },
  {
   "cell_type": "code",
   "execution_count": 41,
   "metadata": {},
   "outputs": [],
   "source": [
    "def wavelet(image):\n",
    "    # Convertir la imagen a escala de grises\n",
    "    gris = cv2.cvtColor(image, cv2.COLOR_BGR2GRAY)\n",
    "    \n",
    "    # Aplicar la transformada de wavelet\n",
    "    coeffs = pywt.dwt2(gris, 'haar')\n",
    "    LL, (LH, HL, HH) = coeffs\n",
    "    \n",
    "    # Aplicar la transformada inversa de wavelet\n",
    "    reconstruccion = pywt.idwt2(coeffs, 'haar')\n",
    "\n",
    "    resta = gris - reconstruccion\n",
    "    \n",
    "    return resta"
   ]
  },
  {
   "attachments": {},
   "cell_type": "markdown",
   "metadata": {},
   "source": [
    "## Creating Model"
   ]
  },
  {
   "attachments": {},
   "cell_type": "markdown",
   "metadata": {},
   "source": [
    "### Creating and splitting the dataset"
   ]
  },
  {
   "cell_type": "code",
   "execution_count": 48,
   "metadata": {},
   "outputs": [],
   "source": [
    "# Preprocesar las imágenes\n",
    "preprocessed = [wavelet(image) for image in df['image']]\n",
    "\n",
    "# Convertir las imágenes a tensores de tensorflow\n",
    "tensors = [tf.convert_to_tensor(image) for image in preprocessed]\n",
    "tensors_y = [tf.convert_to_tensor(real) for real in df['real']]"
   ]
  },
  {
   "cell_type": "code",
   "execution_count": 49,
   "metadata": {},
   "outputs": [],
   "source": [
    "X = np.array(tensors)\n",
    "Y = np.array(tensors_y)\n",
    "\n",
    "\n",
    "# Dividir el conjunto de datos en entrenamiento validacion y prueba\n",
    "x_train, x_test, y_train, y_test = train_test_split(X, Y, test_size=0.2, random_state=42)\n",
    "x_train, x_val, y_train, y_val = train_test_split(x_train, y_train, test_size=0.2, random_state=42)\n",
    "\n",
    "x_train = np.expand_dims(x_train, axis=-1)\n",
    "x_val = np.expand_dims(x_val, axis=-1)\n",
    "x_test = np.expand_dims(x_test, axis=-1)\n"
   ]
  },
  {
   "attachments": {},
   "cell_type": "markdown",
   "metadata": {},
   "source": [
    "### Creating the checkpoints"
   ]
  },
  {
   "cell_type": "code",
   "execution_count": 50,
   "metadata": {},
   "outputs": [],
   "source": [
    "metrics = [\n",
    "    'accuracy',\n",
    "    tf.keras.metrics.Precision(name='precision'),\n",
    "    tf.keras.metrics.Recall(name='recall'),\n",
    "    tf.keras.metrics.AUC(name='auc'),\n",
    "    tf.keras.metrics.AUC(name='prc', curve='PR')\n",
    "]\n",
    "\n",
    "early_stopping = EarlyStopping(\n",
    "    monitor='val_loss', \n",
    "    min_delta=0, \n",
    "    patience=5, \n",
    "    verbose=0, \n",
    "    mode='auto', \n",
    "    baseline=None, \n",
    "    restore_best_weights=False\n",
    ")\n",
    "\n",
    "reduce_lr = ReduceLROnPlateau(monitor='val_loss', factor=0.1, patience=5, verbose=1)\n",
    "\n",
    "\n",
    "model_chekpoint = ModelCheckpoint(\n",
    "    filepath='./../model/checkpoints', \n",
    "    monitor='val_loss', \n",
    "    verbose=0, \n",
    "    save_best_only=True,\n",
    "    save_weights_only=True, \n",
    "    mode='auto', \n",
    "    save_freq='epoch'\n",
    ")\n",
    "\n",
    "tensor_board = TensorBoard(\n",
    "    log_dir='./../model/logs',\n",
    "    histogram_freq=0,\n",
    "    write_graph=True,\n",
    "    write_images=False,\n",
    "    update_freq='epoch',\n",
    "    profile_batch=2,\n",
    "    embeddings_freq=0,\n",
    "    embeddings_metadata=None\n",
    ")\n",
    "\n",
    "callbacks = [early_stopping, model_chekpoint, tensor_board]\n",
    "optimizer = Adam(learning_rate=0.0001)"
   ]
  },
  {
   "attachments": {},
   "cell_type": "markdown",
   "metadata": {},
   "source": [
    "### Creating the model fron scratch"
   ]
  },
  {
   "attachments": {},
   "cell_type": "markdown",
   "metadata": {},
   "source": [
    "detect_manipulated_images_model_scratch_v1.h5 2min 5s 13 epocas bacth_size=32\n",
    "\n",
    "loss: 0.6631 - accuracy: 0.6224 - precision: 0.0000e+00 - recall: 0.0000e+00 - auc: 0.5000 - prc: 0.3776"
   ]
  },
  {
   "cell_type": "code",
   "execution_count": 51,
   "metadata": {},
   "outputs": [],
   "source": [
    "model = Sequential()\n",
    "model.add(Conv2D(32, kernel_size=(5, 5), activation=None, input_shape=(128, 128, 1)))\n",
    "model.add(BatchNormalization())\n",
    "model.add(Activation('relu'))\n",
    "model.add(MaxPooling2D(pool_size=(2, 2)))\n",
    "model.add(Conv2D(64, kernel_size=(5, 5), activation=None, kernel_regularizer=l2(0.01)))\n",
    "model.add(BatchNormalization())\n",
    "model.add(Activation('relu'))\n",
    "model.add(MaxPooling2D(pool_size=(2, 2)))\n",
    "model.add(Conv2D(128, kernel_size=(5, 5), activation=None, kernel_regularizer=l2(0.01)))\n",
    "model.add(BatchNormalization())\n",
    "model.add(Activation('relu'))\n",
    "model.add(MaxPooling2D(pool_size=(2, 2)))\n",
    "model.add(Flatten())\n",
    "model.add(Dense(256, activation=None, kernel_regularizer=l2(0.01)))\n",
    "model.add(BatchNormalization())\n",
    "model.add(Activation('relu'))\n",
    "model.add(Dropout(0.5))\n",
    "model.add(Dense(1, activation='sigmoid'))"
   ]
  },
  {
   "attachments": {},
   "cell_type": "markdown",
   "metadata": {},
   "source": [
    "### Training the model"
   ]
  },
  {
   "cell_type": "code",
   "execution_count": 52,
   "metadata": {},
   "outputs": [
    {
     "name": "stdout",
     "output_type": "stream",
     "text": [
      "Epoch 1/50\n",
      "228/228 [==============================] - 19s 45ms/step - loss: 2.4341 - accuracy: 0.6125 - precision: 0.6137 - recall: 0.9953 - auc: 0.4887 - prc: 0.6041 - val_loss: 0.9032 - val_accuracy: 0.6047 - val_precision: 0.6047 - val_recall: 1.0000 - val_auc: 0.5000 - val_prc: 0.6047\n",
      "Epoch 2/50\n",
      "228/228 [==============================] - 9s 41ms/step - loss: 0.7585 - accuracy: 0.6139 - precision: 0.6139 - recall: 1.0000 - auc: 0.5014 - prc: 0.6156 - val_loss: 0.6951 - val_accuracy: 0.6047 - val_precision: 0.6047 - val_recall: 1.0000 - val_auc: 0.5000 - val_prc: 0.6047\n",
      "Epoch 3/50\n",
      "228/228 [==============================] - 9s 41ms/step - loss: 0.6773 - accuracy: 0.6139 - precision: 0.6139 - recall: 1.0000 - auc: 0.4979 - prc: 0.6134 - val_loss: 0.6734 - val_accuracy: 0.6047 - val_precision: 0.6047 - val_recall: 1.0000 - val_auc: 0.5000 - val_prc: 0.6047\n",
      "Epoch 4/50\n",
      "228/228 [==============================] - 9s 41ms/step - loss: 0.6682 - accuracy: 0.6139 - precision: 0.6139 - recall: 1.0000 - auc: 0.4960 - prc: 0.6115 - val_loss: 0.6713 - val_accuracy: 0.6047 - val_precision: 0.6047 - val_recall: 1.0000 - val_auc: 0.5000 - val_prc: 0.6047\n",
      "Epoch 5/50\n",
      "228/228 [==============================] - 9s 40ms/step - loss: 0.6676 - accuracy: 0.6139 - precision: 0.6139 - recall: 1.0000 - auc: 0.4906 - prc: 0.6089 - val_loss: 0.6711 - val_accuracy: 0.6047 - val_precision: 0.6047 - val_recall: 1.0000 - val_auc: 0.5000 - val_prc: 0.6047\n",
      "Epoch 6/50\n",
      "228/228 [==============================] - 9s 39ms/step - loss: 0.6668 - accuracy: 0.6139 - precision: 0.6139 - recall: 1.0000 - auc: 0.5125 - prc: 0.6178 - val_loss: 0.6711 - val_accuracy: 0.6047 - val_precision: 0.6047 - val_recall: 1.0000 - val_auc: 0.5000 - val_prc: 0.6047\n",
      "Epoch 7/50\n",
      "228/228 [==============================] - 9s 41ms/step - loss: 0.6676 - accuracy: 0.6139 - precision: 0.6139 - recall: 1.0000 - auc: 0.4912 - prc: 0.6085 - val_loss: 0.6711 - val_accuracy: 0.6047 - val_precision: 0.6047 - val_recall: 1.0000 - val_auc: 0.5000 - val_prc: 0.6047\n",
      "Epoch 8/50\n",
      "228/228 [==============================] - 9s 39ms/step - loss: 0.6670 - accuracy: 0.6139 - precision: 0.6139 - recall: 1.0000 - auc: 0.5057 - prc: 0.6204 - val_loss: 0.6712 - val_accuracy: 0.6047 - val_precision: 0.6047 - val_recall: 1.0000 - val_auc: 0.5000 - val_prc: 0.6047\n",
      "Epoch 9/50\n",
      "228/228 [==============================] - 9s 39ms/step - loss: 0.6671 - accuracy: 0.6139 - precision: 0.6139 - recall: 1.0000 - auc: 0.5020 - prc: 0.6137 - val_loss: 0.6712 - val_accuracy: 0.6047 - val_precision: 0.6047 - val_recall: 1.0000 - val_auc: 0.5000 - val_prc: 0.6047\n",
      "Epoch 10/50\n",
      "228/228 [==============================] - 9s 40ms/step - loss: 0.6672 - accuracy: 0.6139 - precision: 0.6139 - recall: 1.0000 - auc: 0.5010 - prc: 0.6139 - val_loss: 0.6711 - val_accuracy: 0.6047 - val_precision: 0.6047 - val_recall: 1.0000 - val_auc: 0.5000 - val_prc: 0.6047\n",
      "Epoch 11/50\n",
      "228/228 [==============================] - 9s 39ms/step - loss: 0.6671 - accuracy: 0.6139 - precision: 0.6139 - recall: 1.0000 - auc: 0.5049 - prc: 0.6159 - val_loss: 0.6714 - val_accuracy: 0.6047 - val_precision: 0.6047 - val_recall: 1.0000 - val_auc: 0.5000 - val_prc: 0.6047\n",
      "Epoch 12/50\n",
      "228/228 [==============================] - 9s 40ms/step - loss: 0.6669 - accuracy: 0.6139 - precision: 0.6139 - recall: 1.0000 - auc: 0.5074 - prc: 0.6199 - val_loss: 0.6714 - val_accuracy: 0.6047 - val_precision: 0.6047 - val_recall: 1.0000 - val_auc: 0.5000 - val_prc: 0.6047\n"
     ]
    }
   ],
   "source": [
    "model.compile(optimizer=optimizer, loss='binary_crossentropy', metrics=metrics)\n",
    "history = model.fit(x_train, y_train, epochs=50, batch_size=32, validation_data=(x_val, y_val), callbacks=callbacks)"
   ]
  },
  {
   "attachments": {},
   "cell_type": "markdown",
   "metadata": {},
   "source": [
    "### Evaluating the model"
   ]
  },
  {
   "cell_type": "code",
   "execution_count": 53,
   "metadata": {},
   "outputs": [
    {
     "name": "stdout",
     "output_type": "stream",
     "text": [
      "72/72 [==============================] - 2s 15ms/step - loss: 0.6629 - accuracy: 0.6224 - precision: 0.6224 - recall: 1.0000 - auc: 0.5000 - prc: 0.6224\n"
     ]
    },
    {
     "data": {
      "text/plain": [
       "[0.6629449129104614,\n",
       " 0.6223683953285217,\n",
       " 0.6223683953285217,\n",
       " 1.0,\n",
       " 0.5,\n",
       " 0.6223683953285217]"
      ]
     },
     "execution_count": 53,
     "metadata": {},
     "output_type": "execute_result"
    }
   ],
   "source": [
    "model.evaluate(x_test, y_test)"
   ]
  },
  {
   "attachments": {},
   "cell_type": "markdown",
   "metadata": {},
   "source": [
    "### Showing the results"
   ]
  },
  {
   "cell_type": "code",
   "execution_count": 54,
   "metadata": {},
   "outputs": [],
   "source": [
    "def plot_metrics(history):\n",
    "    metrics = ['accuracy', 'loss', 'prc', 'precision', 'recall']\n",
    "    fig, axes = plt.subplots(len(metrics), 1, figsize=(10, 10))\n",
    "    \n",
    "    for i, metric in enumerate(metrics):\n",
    "        axes[i].plot(history.history[metric], label='train')\n",
    "        axes[i].plot(history.history[f'val_{metric}'], label='val')\n",
    "        axes[i].set_title(metric)\n",
    "        axes[i].legend()\n",
    "    \n",
    "    plt.tight_layout()\n",
    "    plt.show()\n",
    "\n",
    "def plot_confusion_matrix(model, X, y_true):\n",
    "    y_pred = model.predict(X) > 0.5\n",
    "    cm = confusion_matrix(y_true, y_pred)\n",
    "    plt.figure(figsize=(6,6))\n",
    "    plt.imshow(cm, cmap=plt.cm.Reds)\n",
    "    plt.title('Confusion Matrix', fontsize=16)\n",
    "    plt.ylabel('True label', fontsize=14)\n",
    "    plt.xlabel('Predicted label', fontsize=14)\n",
    "    plt.xticks([0, 1], ['Manipulated', 'Original'], fontsize=12)\n",
    "    plt.yticks([0, 1], ['Manipulated', 'Original'], fontsize=12)\n",
    "    plt.colorbar()\n",
    "    for i in range(2):\n",
    "        for j in range(2):\n",
    "            plt.text(j, i, str(cm[i][j]), ha='center', va='center', fontsize=20)\n",
    "    plt.show()"
   ]
  },
  {
   "cell_type": "code",
   "execution_count": 55,
   "metadata": {},
   "outputs": [
    {
     "data": {
      "image/png": "[encoded data removed]",
      "text/plain": [
       "<Figure size 1000x1000 with 5 Axes>"
      ]
     },
     "metadata": {},
     "output_type": "display_data"
    }
   ],
   "source": [
    "plot_metrics(history)"
   ]
  },
  {
   "cell_type": "code",
   "execution_count": 56,
   "metadata": {},
   "outputs": [
    {
     "name": "stdout",
     "output_type": "stream",
     "text": [
      "72/72 [==============================] - 1s 13ms/step\n"
     ]
    },
    {
     "data": {
      "image/png": "[encoded data removed]",
      "text/plain": [
       "<Figure size 600x600 with 2 Axes>"
      ]
     },
     "metadata": {},
     "output_type": "display_data"
    }
   ],
   "source": [
    "plot_confusion_matrix(model, x_test, y_test)"
   ]
  },
  {
   "cell_type": "code",
   "execution_count": 57,
   "metadata": {},
   "outputs": [],
   "source": [
    "model.save('./../model/wavelet_models/detect_manipulated_images_model_scratch.h5')"
   ]
  }
 ],
 "metadata": {
  "kernelspec": {
   "display_name": "Python 3",
   "language": "python",
   "name": "python3"
  },
  "language_info": {
   "codemirror_mode": {
    "name": "ipython",
    "version": 3
   },
   "file_extension": ".py",
   "mimetype": "text/x-python",
   "name": "python",
   "nbconvert_exporter": "python",
   "pygments_lexer": "ipython3",
   "version": "3.9.16"
  },
  "orig_nbformat": 4,
  "vscode": {
   "interpreter": {
    "hash": "e8a00227fbbeabfee3e4c7eae78ea7efab3aaaa5b33f3ff28071daefabaeab66"
   }
  }
 },
 "nbformat": 4,
 "nbformat_minor": 2
}
